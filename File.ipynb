{
 "cells": [
  {
   "cell_type": "code",
   "execution_count": 1,
   "id": "cbcf1179-3e68-47ee-aa4c-cb443a28f15c",
   "metadata": {},
   "outputs": [
    {
     "name": "stdout",
     "output_type": "stream",
     "text": [
      "Jumlah huruf kapital dalam teks: 10\n"
     ]
    }
   ],
   "source": [
    "from Modul import hitungHurufBesar\n",
    "\n",
    "teks = \"HITUngan HuRUF BesaR\"\n",
    "\n",
    "jumlah_kapital = hitungHurufBesar(teks)\n",
    "\n",
    "print(f\"Jumlah huruf besar dalam teks: {jumlah_kapital}\")\n"
   ]
  },
  {
   "cell_type": "code",
   "execution_count": null,
   "id": "5a2a41d0-e026-4e4a-9e8a-ab3af8b20c9a",
   "metadata": {},
   "outputs": [],
   "source": []
  },
  {
   "cell_type": "code",
   "execution_count": null,
   "id": "829e0bcc-173f-42d3-aaa0-8c598685a487",
   "metadata": {},
   "outputs": [],
   "source": []
  }
 ],
 "metadata": {
  "kernelspec": {
   "display_name": "Python 3 (ipykernel)",
   "language": "python",
   "name": "python3"
  },
  "language_info": {
   "codemirror_mode": {
    "name": "ipython",
    "version": 3
   },
   "file_extension": ".py",
   "mimetype": "text/x-python",
   "name": "python",
   "nbconvert_exporter": "python",
   "pygments_lexer": "ipython3",
   "version": "3.11.7"
  }
 },
 "nbformat": 4,
 "nbformat_minor": 5
}
